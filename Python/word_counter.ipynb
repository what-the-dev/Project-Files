{
 "cells": [
  {
   "cell_type": "markdown",
   "metadata": {},
   "source": [
    "## A simple Word Counter"
   ]
  },
  {
   "cell_type": "code",
   "execution_count": 1,
   "metadata": {},
   "outputs": [],
   "source": [
    "def most_frequent(s):\n",
    "    \"\"\"Return the most frequently occuring word in s.\"\"\"\n",
    "    counts = dict()\n",
    "    # Use split() to transform the string s into array\n",
    "    words = s.split()\n",
    "    \n",
    "    # sort the new array\n",
    "    words.sort()\n",
    "\n",
    "    # Iterate through the array and count occurance of each word\n",
    "    for word in words:\n",
    "        counts[word] = words.count(word)\n",
    "\n",
    "    # Find the number of times the most common word appears\n",
    "    result = max(counts, key=counts.get)\n",
    "    \n",
    "    # Return the most frequent word.          \n",
    "    return result"
   ]
  },
  {
   "cell_type": "code",
   "execution_count": 2,
   "metadata": {},
   "outputs": [],
   "source": [
    "s = \"betty bought a bit of butter but the butter was bitter\"\n"
   ]
  },
  {
   "cell_type": "code",
   "execution_count": 3,
   "metadata": {},
   "outputs": [
    {
     "data": {
      "text/plain": [
       "'butter'"
      ]
     },
     "execution_count": 3,
     "metadata": {},
     "output_type": "execute_result"
    }
   ],
   "source": [
    "most_frequent(s)"
   ]
  }
 ],
 "metadata": {
  "kernelspec": {
   "display_name": "Python 3",
   "language": "python",
   "name": "python3"
  },
  "language_info": {
   "codemirror_mode": {
    "name": "ipython",
    "version": 3
   },
   "file_extension": ".py",
   "mimetype": "text/x-python",
   "name": "python",
   "nbconvert_exporter": "python",
   "pygments_lexer": "ipython3",
   "version": "3.6.1"
  }
 },
 "nbformat": 4,
 "nbformat_minor": 2
}

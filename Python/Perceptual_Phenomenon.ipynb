{
 "cells": [
  {
   "cell_type": "markdown",
   "metadata": {},
   "source": [
    "## Analyzing the Stroop Effect<br>\n",
    "Devin de Araujo<br>\n",
    "29.01.18"
   ]
  },
  {
   "cell_type": "markdown",
   "metadata": {},
   "source": [
    "<img src=\"stroop_bg.png\" align=\"center\">"
   ]
  },
  {
   "cell_type": "markdown",
   "metadata": {},
   "source": [
    "The Stroop effect is a demonstration of interference in the reaction time of a task. When the name of a color (e.g., \"blue\", \"green\", or \"red\") is printed in a color that is not denoted by the name (e.g., the word \"red\" printed in blue ink instead of red ink), naming the color of the word takes longer and is more prone to errors than when the color of the ink matches the name of the color. (https://en.wikipedia.org/wiki/Stroop_effect)"
   ]
  },
  {
   "cell_type": "markdown",
   "metadata": {},
   "source": [
    "<h3>1. What is the independent variable? What is the dependent variable?</h3>"
   ]
  },
  {
   "cell_type": "markdown",
   "metadata": {},
   "source": [
    "The **independent variable**  is the Congruency condition - whether or not the label matched the ink colour.\n",
    "\n",
    "The **dependent variable** is the time taken to name the colours. "
   ]
  },
  {
   "cell_type": "markdown",
   "metadata": {},
   "source": [
    "<h3>2. What is an appropriate set of hypotheses for this task? What kind of statistical test do you expect to perform? Justify your choices.</h3>"
   ]
  },
  {
   "cell_type": "markdown",
   "metadata": {},
   "source": [
    "** SAMPLE**\n",
    "\n",
    "There are two conditions that will be analysed: a **congruent** words condition, and an **incongruent** words condition.\n",
    "\n",
    "**Congruent words condition** - This is where the words being displayed match the colour that they are printed in, i.e. <font color='red'><b>RED</b></font>, <font color='#03af17'><b>GREEN</b></font><br>\n",
    "**Incongruent words condition** - Here, the words being displayed do NOT match the colours in which they are printed, i.e. <font color='#0461f7'><b>YELLOW</b></font>, <font color='#f28109'><b>PURPLE</b></font>\n",
    "\n",
    "The two groups (Congruent and Incongruent) will form the sample for the analysis. The aim is to perform a statistical test on the sample of participants, by recording their reaction time reading the words under both of the above conditions. The tests conducted on this sample will be used to make inferences about the population. \n",
    "\n",
    "For the analysis, we will look at the difference in the mean $(\\mu)$ response times of the *Congruent* and *Incongruent* groups. The two groups (Congruent and Incongruent) will form the sample for the analysis. The tests conduced with this sample will be used to make inferences about the population. \n",
    "\n",
    "**The hypotheses will be defined as follows:**\n",
    "\n",
    "**Null Hypothesis** $(H_0):$ There is no significant difference in the average time taken to identify the colours between the *Congruent* and *Incongruent* groups. \n",
    "\n",
    "**Alternate Hypothesis **$(H_A):$ Conversely, there *is* a statistically significant difference in the average time taken to identify the colours between the *Congruent* and *Incongruent* groups. \n",
    "\n",
    "$$\\mu _{Incongruent} - \\mu _{Congruent} = \\mu _{difference}$$\n",
    "\n",
    "$$(H_0): \\mu _{difference} = 0 $$\n",
    "\n",
    "$$(H_A): \\mu _{difference} \\neq 0 $$\n",
    "\n",
    "\n",
    "**2 Tailed, Paired T Test** \n",
    "This statistical test will be used to compare the sample populations to determine whether or not there is a significant difference between their means. \n",
    "\n",
    "The *p-value* produced from the test is the probability that t falls into a certain range. A p-value *less than* 0.05 suggests a significant difference between the means of our sample population. Based on this, we would reject the null hypothesis.  A p-value *greater* 0.05 suggests that there is no significant difference between the means and we would then not reject our null hypothesis.\n",
    "\n",
    "I will be using a **2 Tailed Paired T-Test** for the analysis because the two samples are related i.e. congruent vs incongruent data is being collected for the same subject in each trial. We want to test if there is a difference in the reaction times. A T-test is also suitable because the sample size is not that large (i.e. <30)."
   ]
  },
  {
   "cell_type": "markdown",
   "metadata": {},
   "source": [
    "<h3>3. Report some descriptive statistics regarding this dataset. Include at least one measure of central tendency and at least one measure of variability. The name of the data file is 'stroopdata.csv'.</h3>"
   ]
  },
  {
   "cell_type": "code",
   "execution_count": 28,
   "metadata": {
    "collapsed": true
   },
   "outputs": [
    {
     "data": {
      "text/html": [
       "<div>\n",
       "<style>\n",
       "    .dataframe thead tr:only-child th {\n",
       "        text-align: right;\n",
       "    }\n",
       "\n",
       "    .dataframe thead th {\n",
       "        text-align: left;\n",
       "    }\n",
       "\n",
       "    .dataframe tbody tr th {\n",
       "        vertical-align: top;\n",
       "    }\n",
       "</style>\n",
       "<table border=\"1\" class=\"dataframe\">\n",
       "  <thead>\n",
       "    <tr style=\"text-align: right;\">\n",
       "      <th></th>\n",
       "      <th>Congruent</th>\n",
       "      <th>Incongruent</th>\n",
       "    </tr>\n",
       "  </thead>\n",
       "  <tbody>\n",
       "    <tr>\n",
       "      <th>0</th>\n",
       "      <td>12.079</td>\n",
       "      <td>19.278</td>\n",
       "    </tr>\n",
       "    <tr>\n",
       "      <th>1</th>\n",
       "      <td>16.791</td>\n",
       "      <td>18.741</td>\n",
       "    </tr>\n",
       "    <tr>\n",
       "      <th>2</th>\n",
       "      <td>9.564</td>\n",
       "      <td>21.214</td>\n",
       "    </tr>\n",
       "    <tr>\n",
       "      <th>3</th>\n",
       "      <td>8.630</td>\n",
       "      <td>15.687</td>\n",
       "    </tr>\n",
       "    <tr>\n",
       "      <th>4</th>\n",
       "      <td>14.669</td>\n",
       "      <td>22.803</td>\n",
       "    </tr>\n",
       "  </tbody>\n",
       "</table>\n",
       "</div>"
      ],
      "text/plain": [
       "   Congruent  Incongruent\n",
       "0     12.079       19.278\n",
       "1     16.791       18.741\n",
       "2      9.564       21.214\n",
       "3      8.630       15.687\n",
       "4     14.669       22.803"
      ]
     },
     "execution_count": 28,
     "metadata": {},
     "output_type": "execute_result"
    }
   ],
   "source": [
    "# Perform the analysis here\n",
    "import pandas as pd\n",
    "from scipy import stats\n",
    "import numpy as np\n",
    "import matplotlib.pyplot as plt\n",
    "\n",
    "% matplotlib inline\n",
    "% config InlineBackend.figure_format = 'retina'\n",
    "\n",
    "df = pd.read_csv('stroopdata.csv')\n",
    "df.head()"
   ]
  },
  {
   "cell_type": "code",
   "execution_count": 29,
   "metadata": {},
   "outputs": [
    {
     "name": "stdout",
     "output_type": "stream",
     "text": [
      "IQR Congruent: 4.3055 \n",
      "IQR Incongruent: 5.33475\n"
     ]
    }
   ],
   "source": [
    "# Interquartile Range\n",
    "cq3, cq1 = np.percentile(df.Congruent, [75 ,25])\n",
    "congruent_iqr = cq3 - cq1\n",
    "\n",
    "iq3, iq1 = np.percentile(df.Incongruent, [75 ,25])\n",
    "incongruent_iqr = iq3 - iq1\n",
    "\n",
    "print('IQR Congruent:',congruent_iqr,'\\nIQR Incongruent:',incongruent_iqr)"
   ]
  },
  {
   "cell_type": "markdown",
   "metadata": {},
   "source": [
    "**Measure of Central Tendency**\n",
    "\n",
    "*Congruent Mean*: 14.05<br>\n",
    "*Inongruent Mean*: 22.02\n",
    "\n",
    "**Measure of Variability**\n",
    "\n",
    "*IQR Congruent*: 4.31<br>\n",
    "*IQR Inconcgruent*: 5.33\n",
    "\n",
    "** Range**\n",
    "\n",
    "The range for the *Congruent* data is from 8.63 to 22.33 seconds, for the *Incongruent* data the range is from 15.69 to 35.26 seconds. This demonstrates that the fastest of the Incongruent readers needed almost double the amount of time than the fastest reader in the Congruent data set. \n"
   ]
  },
  {
   "cell_type": "markdown",
   "metadata": {},
   "source": [
    "<h3>4. Provide one or two visualizations that show the distribution of the sample data. Write one or two sentences noting what you observe about the plot or plots.</h3>"
   ]
  },
  {
   "cell_type": "code",
   "execution_count": 34,
   "metadata": {},
   "outputs": [
    {
     "data": {
      "text/html": [
       "<div>\n",
       "<style>\n",
       "    .dataframe thead tr:only-child th {\n",
       "        text-align: right;\n",
       "    }\n",
       "\n",
       "    .dataframe thead th {\n",
       "        text-align: left;\n",
       "    }\n",
       "\n",
       "    .dataframe tbody tr th {\n",
       "        vertical-align: top;\n",
       "    }\n",
       "</style>\n",
       "<table border=\"1\" class=\"dataframe\">\n",
       "  <thead>\n",
       "    <tr style=\"text-align: right;\">\n",
       "      <th></th>\n",
       "      <th>Congruent</th>\n",
       "      <th>Incongruent</th>\n",
       "    </tr>\n",
       "  </thead>\n",
       "  <tbody>\n",
       "    <tr>\n",
       "      <th>count</th>\n",
       "      <td>24.000000</td>\n",
       "      <td>24.000000</td>\n",
       "    </tr>\n",
       "    <tr>\n",
       "      <th>mean</th>\n",
       "      <td>14.051125</td>\n",
       "      <td>22.015917</td>\n",
       "    </tr>\n",
       "    <tr>\n",
       "      <th>std</th>\n",
       "      <td>3.559358</td>\n",
       "      <td>4.797057</td>\n",
       "    </tr>\n",
       "    <tr>\n",
       "      <th>min</th>\n",
       "      <td>8.630000</td>\n",
       "      <td>15.687000</td>\n",
       "    </tr>\n",
       "    <tr>\n",
       "      <th>25%</th>\n",
       "      <td>11.895250</td>\n",
       "      <td>18.716750</td>\n",
       "    </tr>\n",
       "    <tr>\n",
       "      <th>50%</th>\n",
       "      <td>14.356500</td>\n",
       "      <td>21.017500</td>\n",
       "    </tr>\n",
       "    <tr>\n",
       "      <th>75%</th>\n",
       "      <td>16.200750</td>\n",
       "      <td>24.051500</td>\n",
       "    </tr>\n",
       "    <tr>\n",
       "      <th>max</th>\n",
       "      <td>22.328000</td>\n",
       "      <td>35.255000</td>\n",
       "    </tr>\n",
       "  </tbody>\n",
       "</table>\n",
       "</div>"
      ],
      "text/plain": [
       "       Congruent  Incongruent\n",
       "count  24.000000    24.000000\n",
       "mean   14.051125    22.015917\n",
       "std     3.559358     4.797057\n",
       "min     8.630000    15.687000\n",
       "25%    11.895250    18.716750\n",
       "50%    14.356500    21.017500\n",
       "75%    16.200750    24.051500\n",
       "max    22.328000    35.255000"
      ]
     },
     "execution_count": 34,
     "metadata": {},
     "output_type": "execute_result"
    }
   ],
   "source": [
    "df.describe()"
   ]
  },
  {
   "cell_type": "markdown",
   "metadata": {},
   "source": [
    "## Visualizing the Data"
   ]
  },
  {
   "cell_type": "code",
   "execution_count": 30,
   "metadata": {},
   "outputs": [
    {
     "data": {
      "image/png": "[encoded data removed]",
      "text/plain": [
       "<matplotlib.figure.Figure at 0x1151262b0>"
      ]
     },
     "metadata": {
      "image/png": {
       "height": 372,
       "width": 593
      }
     },
     "output_type": "display_data"
    }
   ],
   "source": [
    "# data \n",
    "congruent_data = df.Congruent\n",
    "incongruent_data = df.Incongruent\n",
    "\n",
    "# box plot\n",
    "df.plot.box(sym='r+', figsize=(10, 6), title='Distribution of Stroop Data - fig1.1');"
   ]
  },
  {
   "cell_type": "markdown",
   "metadata": {},
   "source": [
    "The above boxplots give a clear indication of the spread of the data. We can see clearly the difference in means, with the Incongruent group sitting well above the Congruent group. The plot also demonstrates the outlier in the Incongruent group, sitting at around 35 seconds. We can cleary identify 2 outliers in the data. \n",
    "\n"
   ]
  },
  {
   "cell_type": "code",
   "execution_count": 94,
   "metadata": {
    "collapsed": true
   },
   "outputs": [
    {
     "data": {
      "image/png": "[encoded data removed]",
      "text/plain": [
       "<matplotlib.figure.Figure at 0x1202eca90>"
      ]
     },
     "metadata": {
      "image/png": {
       "height": 372,
       "width": 610
      }
     },
     "output_type": "display_data"
    }
   ],
   "source": [
    "# histograms\n",
    "\n",
    "plt.figure(figsize=(10, 6));\n",
    "plt.subplot(1, 2, 1);\n",
    "congruent_data.plot.hist(bins=25, title='Congruent Group - fig2.1', colormap='tab10');\n",
    "plt.subplot(1, 2, 2);\n",
    "incongruent_data.plot.hist(bins=25, title='Incongruent Group - fig2.2', colormap='tab20b');\n"
   ]
  },
  {
   "cell_type": "markdown",
   "metadata": {},
   "source": [
    "We can see again from the plots that the Incongruent group has some outliers at around 35 seconds. "
   ]
  },
  {
   "cell_type": "markdown",
   "metadata": {},
   "source": [
    "<h3>5. Now, perform the statistical test and report the results. What is the confidence level and your critical statistic value? Do you reject the null hypothesis or fail to reject it? Come to a conclusion in terms of the experiment task. Did the results match up with your expectations?</h3>"
   ]
  },
  {
   "cell_type": "code",
   "execution_count": 14,
   "metadata": {
    "collapsed": true
   },
   "outputs": [
    {
     "name": "stdout",
     "output_type": "stream",
     "text": [
      "T Stat: 8.02070694411 \n",
      "p-value: 4.10300058571e-08\n"
     ]
    }
   ],
   "source": [
    "# Paired T-Test\n",
    "\n",
    "# looking at Congruent - Incongruent so a and b will be...\n",
    "t_stat,p_val = stats.ttest_rel(b=congruent_data,a=incongruent_data)\n",
    "\n",
    "print('T Stat:',t_stat,'\\np-value:',p_val)"
   ]
  },
  {
   "cell_type": "markdown",
   "metadata": {},
   "source": [
    "<center><b>1.</b> Calculate the Difference in data.</center>\n",
    "<br>\n",
    "$$(d_i = y_i − x_i)$$\n",
    "<br>\n",
    "<center><b>2.</b> Calculate the mean difference.</center>\n",
    "<br>\n",
    "$$(\\bar{d_i})$$\n",
    "\n",
    "\n"
   ]
  },
  {
   "cell_type": "code",
   "execution_count": 16,
   "metadata": {},
   "outputs": [
    {
     "data": {
      "text/html": [
       "<div>\n",
       "<style>\n",
       "    .dataframe thead tr:only-child th {\n",
       "        text-align: right;\n",
       "    }\n",
       "\n",
       "    .dataframe thead th {\n",
       "        text-align: left;\n",
       "    }\n",
       "\n",
       "    .dataframe tbody tr th {\n",
       "        vertical-align: top;\n",
       "    }\n",
       "</style>\n",
       "<table border=\"1\" class=\"dataframe\">\n",
       "  <thead>\n",
       "    <tr style=\"text-align: right;\">\n",
       "      <th></th>\n",
       "      <th>Congruent</th>\n",
       "      <th>Incongruent</th>\n",
       "      <th>difference</th>\n",
       "    </tr>\n",
       "  </thead>\n",
       "  <tbody>\n",
       "    <tr>\n",
       "      <th>count</th>\n",
       "      <td>24.000000</td>\n",
       "      <td>24.000000</td>\n",
       "      <td>24.000000</td>\n",
       "    </tr>\n",
       "    <tr>\n",
       "      <th>mean</th>\n",
       "      <td>14.051125</td>\n",
       "      <td>22.015917</td>\n",
       "      <td>7.964792</td>\n",
       "    </tr>\n",
       "    <tr>\n",
       "      <th>std</th>\n",
       "      <td>3.559358</td>\n",
       "      <td>4.797057</td>\n",
       "      <td>4.864827</td>\n",
       "    </tr>\n",
       "    <tr>\n",
       "      <th>min</th>\n",
       "      <td>8.630000</td>\n",
       "      <td>15.687000</td>\n",
       "      <td>1.950000</td>\n",
       "    </tr>\n",
       "    <tr>\n",
       "      <th>25%</th>\n",
       "      <td>11.895250</td>\n",
       "      <td>18.716750</td>\n",
       "      <td>3.645500</td>\n",
       "    </tr>\n",
       "    <tr>\n",
       "      <th>50%</th>\n",
       "      <td>14.356500</td>\n",
       "      <td>21.017500</td>\n",
       "      <td>7.666500</td>\n",
       "    </tr>\n",
       "    <tr>\n",
       "      <th>75%</th>\n",
       "      <td>16.200750</td>\n",
       "      <td>24.051500</td>\n",
       "      <td>10.258500</td>\n",
       "    </tr>\n",
       "    <tr>\n",
       "      <th>max</th>\n",
       "      <td>22.328000</td>\n",
       "      <td>35.255000</td>\n",
       "      <td>21.919000</td>\n",
       "    </tr>\n",
       "  </tbody>\n",
       "</table>\n",
       "</div>"
      ],
      "text/plain": [
       "       Congruent  Incongruent  difference\n",
       "count  24.000000    24.000000   24.000000\n",
       "mean   14.051125    22.015917    7.964792\n",
       "std     3.559358     4.797057    4.864827\n",
       "min     8.630000    15.687000    1.950000\n",
       "25%    11.895250    18.716750    3.645500\n",
       "50%    14.356500    21.017500    7.666500\n",
       "75%    16.200750    24.051500   10.258500\n",
       "max    22.328000    35.255000   21.919000"
      ]
     },
     "execution_count": 16,
     "metadata": {},
     "output_type": "execute_result"
    }
   ],
   "source": [
    "# calculate differences\n",
    "df['difference'] = df.Incongruent - df.Congruent\n",
    "\n",
    "df.describe()"
   ]
  },
  {
   "cell_type": "code",
   "execution_count": 21,
   "metadata": {},
   "outputs": [
    {
     "name": "stdout",
     "output_type": "stream",
     "text": [
      "Difference in means: 7.96479\n"
     ]
    }
   ],
   "source": [
    "# calculate mean of differences\n",
    "diff_mean = df.difference.mean()\n",
    "\n",
    "print('Difference in means:',round(diff_mean,5))"
   ]
  },
  {
   "cell_type": "markdown",
   "metadata": {},
   "source": [
    "**3.** Look up $T_{critical}$ based on the following:\n",
    "\n",
    "$${n}: 24$$\n",
    "\n",
    "$${a}: 0.05$$\n",
    "\n",
    "$${df}: 23$$\n",
    "\n",
    "$$T_{crit}:2.069$$\n",
    "\n",
    "http://www.sjsu.edu/faculty/gerstman/StatPrimer/t-table.pdf"
   ]
  },
  {
   "cell_type": "markdown",
   "metadata": {},
   "source": [
    "**4.** Calculate the Standard Deviation of the Differences $s_{s}$. This will be used to calculate the Standard Error of the mean differences.\n",
    "\n",
    "$${\\mathop{\\rm SE}} \\left( {\\bar d_i} \\right) = \\frac{{s_d }}{\\sqrt{n}}$$\n"
   ]
  },
  {
   "cell_type": "code",
   "execution_count": 192,
   "metadata": {},
   "outputs": [
    {
     "name": "stdout",
     "output_type": "stream",
     "text": [
      "standard deviation of differences: 4.864826910359056\n",
      "standard error of differences: 0.993028634778\n"
     ]
    }
   ],
   "source": [
    "n=24 #number of samples\n",
    "\n",
    "# standard deviation of the differences\n",
    "std_diff = np.std(df.difference, ddof=1)\n",
    "\n",
    "# Standard error of differences\n",
    "se_diff = std_diff/(np.sqrt(n))\n",
    "\n",
    "print('standard deviation of differences:',std_diff)\n",
    "print('standard error of differences:',se_diff)\n"
   ]
  },
  {
   "cell_type": "markdown",
   "metadata": {},
   "source": [
    "**5.** Calculate the *t-statistic*\n",
    "\n",
    "$$T_{stat} = \\frac{\\bar d}{SE(\\bar d)}$$"
   ]
  },
  {
   "cell_type": "code",
   "execution_count": 193,
   "metadata": {},
   "outputs": [
    {
     "name": "stdout",
     "output_type": "stream",
     "text": [
      "T-statistic: 8.02070694411\n"
     ]
    }
   ],
   "source": [
    "# Calculate the t-statistic\n",
    "\n",
    "T_stat = (df.difference.mean())/(se_diff)\n",
    "\n",
    "print('T-statistic:', T_stat)"
   ]
  },
  {
   "cell_type": "markdown",
   "metadata": {},
   "source": [
    "**6.** Calculate the *P-value*"
   ]
  },
  {
   "cell_type": "code",
   "execution_count": 194,
   "metadata": {},
   "outputs": [
    {
     "data": {
      "text/plain": [
       "4.1030005837328076e-08"
      ]
     },
     "execution_count": 194,
     "metadata": {},
     "output_type": "execute_result"
    }
   ],
   "source": [
    "p = 2*(1-stats.t.cdf(T_stat, df=(n-1)))\n",
    "p"
   ]
  },
  {
   "cell_type": "markdown",
   "metadata": {},
   "source": [
    "**7. **Calculate the confidence interval for the mean difference.\n",
    "\n",
    "A 95% confidence interval for the true mean difference is:"
   ]
  },
  {
   "cell_type": "code",
   "execution_count": 195,
   "metadata": {},
   "outputs": [
    {
     "data": {
      "text/plain": [
       "(5.91021542131028, 10.019367912023053)"
      ]
     },
     "execution_count": 195,
     "metadata": {},
     "output_type": "execute_result"
    }
   ],
   "source": [
    "lower = df.difference.mean() - (2.069*(se_diff))\n",
    "upper = df.difference.mean() + (2.069*(se_diff))\n",
    "\n",
    "lower,upper"
   ]
  },
  {
   "cell_type": "markdown",
   "metadata": {},
   "source": [
    "# Conclusion\n",
    "Based on the above, we can reject the null hypothesis \n",
    "\n",
    "$$(H_0): \\mu _{difference} = 0 $$\n",
    "\n",
    "$$(H_A): \\mu _{difference} \\neq 0 $$\n",
    "\n",
    "The following factors support this conclusion:\n",
    "1. *P-value* is less than 0.05\n",
    "2. $T_{stat} > T_{crit}$\n",
    "\n",
    "Based on the above confidence intervals, we can be 95% confident that the difference between the two groups (Congruent and Incongruent) falls between 5.9102 and 10.0194. We can clearly see that the Stroop effect is in place between the two sample populations. The results of the analysis are in line with what I expected."
   ]
  },
  {
   "cell_type": "markdown",
   "metadata": {},
   "source": [
    "<h3>6. Optional: What do you think is responsible for the effects observed? Can you think of an alternative or similar task that would result in a similar effect? Some research about the problem will be helpful for thinking about these two questions!</h3>"
   ]
  },
  {
   "cell_type": "markdown",
   "metadata": {},
   "source": [
    "There are several theories that provide reasoning for why the stroop effect happens. I believe that the most logical theory is based on the brain's prcessing speed. The theory opines that word proccessing is significantly faster than colour processing - information regarding the word arrives at the decision-making stage much faster than colour information does."
   ]
  },
  {
   "cell_type": "markdown",
   "metadata": {},
   "source": [
    "**Note**\n",
    "\n",
    "This project formed part of Udacity's Data Analyst Nanodegree Program <br>https://www.udacity.com/course/data-analyst-nanodegree--nd002\n",
    "\n",
    "**Resources**\n",
    "\n",
    "http://www.unm.edu/~marcusj/Paired2Sample.pdf\n",
    "\n",
    "http://www.statstutor.ac.uk/resources/uploaded/paired-t-test.pdf\n",
    "\n",
    "https://www.nku.edu/~intsci/sci110/worksheets/basic_ttest_info.html\n",
    "\n",
    "http://blog.minitab.com/blog/statistics-and-quality-data-analysis/what-are-degrees-of-freedom-in-statistics\n",
    "\n"
   ]
  }
 ],
 "metadata": {
  "kernelspec": {
   "display_name": "Python 3",
   "language": "python",
   "name": "python3"
  },
  "language_info": {
   "codemirror_mode": {
    "name": "ipython",
    "version": 3
   },
   "file_extension": ".py",
   "mimetype": "text/x-python",
   "name": "python",
   "nbconvert_exporter": "python",
   "pygments_lexer": "ipython3",
   "version": "3.6.1"
  }
 },
 "nbformat": 4,
 "nbformat_minor": 2
}

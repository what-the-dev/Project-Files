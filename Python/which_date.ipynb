{
 "cells": [
  {
   "cell_type": "markdown",
   "metadata": {},
   "source": [
    "## A simple Date counting script"
   ]
  },
  {
   "cell_type": "code",
   "execution_count": 8,
   "metadata": {},
   "outputs": [],
   "source": [
    "def which_date(start_date,time):\n",
    "    \n",
    "    from datetime import datetime as dt\n",
    "    from dateutil.relativedelta import relativedelta\n",
    "    from datetime import timedelta  \n",
    "\n",
    "    \"\"\"\n",
    "    This function takes as input a string depicting a date in YYYY/mm/dd\n",
    "    format and a string stating a time period in the form of \"X day(s)\" or\n",
    "    \"Y week(s)\". Output should be a string in form YYYY/mm/dd with the date\n",
    "    that is X days or Y weeks after the initial date.\n",
    "    \"\"\"\n",
    "    # convert start_date into datetime object\n",
    "    start_date = dt.strptime(start_date , '%Y/%m/%d')\n",
    "    \n",
    "    # split time into integer and period\n",
    "    count = [int(t) for t in time.split() if t.isdigit()]\n",
    "    period = [w for w in time.split() if not w.isdigit()]\n",
    "    \n",
    "    # use value for each key\n",
    "    count = count[0]\n",
    "    period = period[0]\n",
    "    \n",
    "    if period == 'days':\n",
    "        new_date = start_date + timedelta(days=count)\n",
    "    elif period == 'day':\n",
    "        new_date = start_date + timedelta(days=count)\n",
    "    elif period == 'weeks':\n",
    "        new_date = start_date + timedelta(days=(count*7))\n",
    "    elif period == 'week':\n",
    "        new_date = start_date + timedelta(days=(count*7))\n",
    "    elif period == 'years':\n",
    "        new_date = start_date + timedelta(days=(count*365))\n",
    "    elif period == 'year':\n",
    "        new_date = start_date + timedelta(days=(count*365))\n",
    "    else:\n",
    "        new_date = start_date + relativedelta(months=count)\n",
    "    \n",
    "    end_date = new_date.strftime('%Y/%m/%d')\n",
    "    \n",
    "    return end_date"
   ]
  },
  {
   "cell_type": "code",
   "execution_count": 2,
   "metadata": {},
   "outputs": [
    {
     "data": {
      "text/plain": [
       "'2016/03/16'"
      ]
     },
     "execution_count": 2,
     "metadata": {},
     "output_type": "execute_result"
    }
   ],
   "source": [
    "which_date('2016/02/10','35 days')"
   ]
  },
  {
   "cell_type": "code",
   "execution_count": 3,
   "metadata": {},
   "outputs": [
    {
     "data": {
      "text/plain": [
       "'2019/04/24'"
      ]
     },
     "execution_count": 3,
     "metadata": {},
     "output_type": "execute_result"
    }
   ],
   "source": [
    "which_date('2019/04/10','2 weeks')"
   ]
  },
  {
   "cell_type": "code",
   "execution_count": 3,
   "metadata": {},
   "outputs": [
    {
     "data": {
      "text/plain": [
       "'2019/05/17'"
      ]
     },
     "execution_count": 3,
     "metadata": {},
     "output_type": "execute_result"
    }
   ],
   "source": [
    "which_date('2019/05/10','1 week')"
   ]
  },
  {
   "cell_type": "code",
   "execution_count": 7,
   "metadata": {},
   "outputs": [
    {
     "data": {
      "text/plain": [
       "'2019/06/10'"
      ]
     },
     "execution_count": 7,
     "metadata": {},
     "output_type": "execute_result"
    }
   ],
   "source": [
    "which_date('2019/04/10','2 months')"
   ]
  },
  {
   "cell_type": "code",
   "execution_count": 10,
   "metadata": {},
   "outputs": [
    {
     "data": {
      "text/plain": [
       "'2020/04/09'"
      ]
     },
     "execution_count": 10,
     "metadata": {},
     "output_type": "execute_result"
    }
   ],
   "source": [
    "which_date('2019/04/10','1 years')"
   ]
  }
 ],
 "metadata": {
  "kernelspec": {
   "display_name": "Python 3",
   "language": "python",
   "name": "python3"
  },
  "language_info": {
   "codemirror_mode": {
    "name": "ipython",
    "version": 3
   },
   "file_extension": ".py",
   "mimetype": "text/x-python",
   "name": "python",
   "nbconvert_exporter": "python",
   "pygments_lexer": "ipython3",
   "version": "3.6.1"
  }
 },
 "nbformat": 4,
 "nbformat_minor": 2
}
